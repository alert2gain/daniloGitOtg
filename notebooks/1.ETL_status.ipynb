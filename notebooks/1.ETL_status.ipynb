{
 "cells": [
  {
   "cell_type": "code",
   "execution_count": 1,
   "metadata": {},
   "outputs": [
    {
     "name": "stderr",
     "output_type": "stream",
     "text": [
      "c:\\Users\\DaniloAraneda\\AppData\\Local\\Programs\\Python\\Python310\\lib\\site-packages\\numpy\\_distributor_init.py:30: UserWarning: loaded more than 1 DLL from .libs:\n",
      "c:\\Users\\DaniloAraneda\\AppData\\Local\\Programs\\Python\\Python310\\lib\\site-packages\\numpy\\.libs\\libopenblas.fb5ae2tyxyh2ijrdkgdgq3xbklktf43h.gfortran-win_amd64.dll\n",
      "c:\\Users\\DaniloAraneda\\AppData\\Local\\Programs\\Python\\Python310\\lib\\site-packages\\numpy\\.libs\\libopenblas64__v0.3.21-gcc_10_3_0.dll\n",
      "  warnings.warn(\"loaded more than 1 DLL from .libs:\"\n"
     ]
    },
    {
     "name": "stdout",
     "output_type": "stream",
     "text": [
      "mongo_conn: None, mongo_db: None from cloud_inputstream.py\n",
      "mongo_conn: None, mongo_db: None from init.py\n"
     ]
    }
   ],
   "source": [
    "import json\n",
    "import pandas as pd\n",
    "from a2ginputstream import A2GClient\n",
    "import random\n",
    "import time\n",
    "import datetime\n",
    "import logging\n",
    "\n",
    "logging.basicConfig(level=logging.DEBUG, format='%(asctime)s - %(levelname)s - %(message)s')"
   ]
  },
  {
   "cell_type": "markdown",
   "metadata": {},
   "source": [
    "## read data"
   ]
  },
  {
   "cell_type": "code",
   "execution_count": 2,
   "metadata": {},
   "outputs": [
    {
     "name": "stdout",
     "output_type": "stream",
     "text": [
      "reading data...\n",
      "reading users...\n",
      "reading machines...\n"
     ]
    }
   ],
   "source": [
    "print(\"reading data...\")\n",
    "\n",
    "print (\"reading users...\")\n",
    "users_str = open(\"../data/raw/mock_users.json\", \"r\").read()\n",
    "users = json.loads(users_str)\n",
    "\n",
    "print (\"reading machines...\")\n",
    "machines_str = open(\"../data/raw/mock_machines.json\", \"r\").read()\n",
    "machines = json.loads(machines_str)\n"
   ]
  },
  {
   "cell_type": "code",
   "execution_count": 3,
   "metadata": {},
   "outputs": [
    {
     "data": {
      "text/html": [
       "<div>\n",
       "<style scoped>\n",
       "    .dataframe tbody tr th:only-of-type {\n",
       "        vertical-align: middle;\n",
       "    }\n",
       "\n",
       "    .dataframe tbody tr th {\n",
       "        vertical-align: top;\n",
       "    }\n",
       "\n",
       "    .dataframe thead th {\n",
       "        text-align: right;\n",
       "    }\n",
       "</style>\n",
       "<table border=\"1\" class=\"dataframe\">\n",
       "  <thead>\n",
       "    <tr style=\"text-align: right;\">\n",
       "      <th></th>\n",
       "      <th>name</th>\n",
       "      <th>role</th>\n",
       "    </tr>\n",
       "  </thead>\n",
       "  <tbody>\n",
       "    <tr>\n",
       "      <th>0</th>\n",
       "      <td>John Doe</td>\n",
       "      <td>admin</td>\n",
       "    </tr>\n",
       "    <tr>\n",
       "      <th>1</th>\n",
       "      <td>Jane Doe</td>\n",
       "      <td>user</td>\n",
       "    </tr>\n",
       "    <tr>\n",
       "      <th>2</th>\n",
       "      <td>John Smith</td>\n",
       "      <td>user</td>\n",
       "    </tr>\n",
       "    <tr>\n",
       "      <th>3</th>\n",
       "      <td>Smith Alfred</td>\n",
       "      <td>user</td>\n",
       "    </tr>\n",
       "    <tr>\n",
       "      <th>4</th>\n",
       "      <td>Richard Alfredo</td>\n",
       "      <td>user</td>\n",
       "    </tr>\n",
       "  </tbody>\n",
       "</table>\n",
       "</div>"
      ],
      "text/plain": [
       "              name   role\n",
       "0         John Doe  admin\n",
       "1         Jane Doe   user\n",
       "2       John Smith   user\n",
       "3     Smith Alfred   user\n",
       "4  Richard Alfredo   user"
      ]
     },
     "execution_count": 3,
     "metadata": {},
     "output_type": "execute_result"
    }
   ],
   "source": [
    "df_users = pd.DataFrame(users)\n",
    "df_users.head()"
   ]
  },
  {
   "cell_type": "markdown",
   "metadata": {},
   "source": [
    "## merge data"
   ]
  },
  {
   "cell_type": "code",
   "execution_count": 4,
   "metadata": {},
   "outputs": [
    {
     "name": "stdout",
     "output_type": "stream",
     "text": [
      "merging data...\n",
      "done merging data\n"
     ]
    }
   ],
   "source": [
    "import datetime\n",
    "\n",
    "\n",
    "print(\"merging data...\")\n",
    "\n",
    "# 70, 25, 25%\n",
    "def get_status():\n",
    "    r = random.randint(0, 100)\n",
    "    if r < 50: return \"active\"\n",
    "    elif r < 75: return \"inactive\"\n",
    "    else: return \"error\"\n",
    "\n",
    "df_users[\"machines\"] = df_users[\"name\"].apply(lambda _: machines[random.randint(0, len(machines)-1)])\n",
    "df_users[\"status\"] = df_users[\"name\"].apply(lambda _: get_status())\n",
    "df_users[\"ton\"] = df_users[\"machines\"].apply(lambda _: random.randint(0, 100))\n",
    "df_users[\"start_on\"] = df_users[\"machines\"].apply(lambda _: (datetime.datetime.utcnow() - datetime.timedelta(minutes=5)).isoformat())\n",
    "df_users[\"end_on\"] = df_users[\"machines\"].apply(lambda _: datetime.datetime.utcnow().isoformat())\n",
    "print(\"done merging data\")"
   ]
  },
  {
   "cell_type": "code",
   "execution_count": 5,
   "metadata": {},
   "outputs": [
    {
     "data": {
      "text/html": [
       "<div>\n",
       "<style scoped>\n",
       "    .dataframe tbody tr th:only-of-type {\n",
       "        vertical-align: middle;\n",
       "    }\n",
       "\n",
       "    .dataframe tbody tr th {\n",
       "        vertical-align: top;\n",
       "    }\n",
       "\n",
       "    .dataframe thead th {\n",
       "        text-align: right;\n",
       "    }\n",
       "</style>\n",
       "<table border=\"1\" class=\"dataframe\">\n",
       "  <thead>\n",
       "    <tr style=\"text-align: right;\">\n",
       "      <th></th>\n",
       "      <th>name</th>\n",
       "      <th>role</th>\n",
       "      <th>machines</th>\n",
       "      <th>status</th>\n",
       "      <th>ton</th>\n",
       "      <th>start_on</th>\n",
       "      <th>end_on</th>\n",
       "    </tr>\n",
       "  </thead>\n",
       "  <tbody>\n",
       "    <tr>\n",
       "      <th>0</th>\n",
       "      <td>John Doe</td>\n",
       "      <td>admin</td>\n",
       "      <td>C303</td>\n",
       "      <td>active</td>\n",
       "      <td>96</td>\n",
       "      <td>2024-10-29T11:36:09.452580</td>\n",
       "      <td>2024-10-29T11:41:09.453093</td>\n",
       "    </tr>\n",
       "    <tr>\n",
       "      <th>1</th>\n",
       "      <td>Jane Doe</td>\n",
       "      <td>user</td>\n",
       "      <td>C301</td>\n",
       "      <td>active</td>\n",
       "      <td>21</td>\n",
       "      <td>2024-10-29T11:36:09.452580</td>\n",
       "      <td>2024-10-29T11:41:09.453093</td>\n",
       "    </tr>\n",
       "    <tr>\n",
       "      <th>2</th>\n",
       "      <td>John Smith</td>\n",
       "      <td>user</td>\n",
       "      <td>C303</td>\n",
       "      <td>error</td>\n",
       "      <td>69</td>\n",
       "      <td>2024-10-29T11:36:09.452580</td>\n",
       "      <td>2024-10-29T11:41:09.453093</td>\n",
       "    </tr>\n",
       "    <tr>\n",
       "      <th>3</th>\n",
       "      <td>Smith Alfred</td>\n",
       "      <td>user</td>\n",
       "      <td>C303</td>\n",
       "      <td>error</td>\n",
       "      <td>59</td>\n",
       "      <td>2024-10-29T11:36:09.452580</td>\n",
       "      <td>2024-10-29T11:41:09.453093</td>\n",
       "    </tr>\n",
       "    <tr>\n",
       "      <th>4</th>\n",
       "      <td>Richard Alfredo</td>\n",
       "      <td>user</td>\n",
       "      <td>C303</td>\n",
       "      <td>inactive</td>\n",
       "      <td>0</td>\n",
       "      <td>2024-10-29T11:36:09.452580</td>\n",
       "      <td>2024-10-29T11:41:09.453093</td>\n",
       "    </tr>\n",
       "  </tbody>\n",
       "</table>\n",
       "</div>"
      ],
      "text/plain": [
       "              name   role machines    status  ton                    start_on  \\\n",
       "0         John Doe  admin     C303    active   96  2024-10-29T11:36:09.452580   \n",
       "1         Jane Doe   user     C301    active   21  2024-10-29T11:36:09.452580   \n",
       "2       John Smith   user     C303     error   69  2024-10-29T11:36:09.452580   \n",
       "3     Smith Alfred   user     C303     error   59  2024-10-29T11:36:09.452580   \n",
       "4  Richard Alfredo   user     C303  inactive    0  2024-10-29T11:36:09.452580   \n",
       "\n",
       "                       end_on  \n",
       "0  2024-10-29T11:41:09.453093  \n",
       "1  2024-10-29T11:41:09.453093  \n",
       "2  2024-10-29T11:41:09.453093  \n",
       "3  2024-10-29T11:41:09.453093  \n",
       "4  2024-10-29T11:41:09.453093  "
      ]
     },
     "execution_count": 5,
     "metadata": {},
     "output_type": "execute_result"
    }
   ],
   "source": [
    "df_users.head()"
   ]
  },
  {
   "cell_type": "markdown",
   "metadata": {},
   "source": [
    "## simulate error ETL and long time process"
   ]
  },
  {
   "cell_type": "code",
   "execution_count": 6,
   "metadata": {},
   "outputs": [],
   "source": [
    "rand_error = random.randint(0, 100)\n",
    "if rand_error < 30:\n",
    "    print(\"error\")\n",
    "    raise Exception(\"Error\")\n",
    "\n",
    "rand_ltp = random.randint(0, 100)\n",
    "if rand_ltp < 30:\n",
    "    for _ in range(0, 500):\n",
    "        time.sleep(1) "
   ]
  },
  {
   "cell_type": "markdown",
   "metadata": {},
   "source": [
    "## insert data"
   ]
  },
  {
   "cell_type": "code",
   "execution_count": 7,
   "metadata": {},
   "outputs": [
    {
     "name": "stderr",
     "output_type": "stream",
     "text": [
      "2024-10-29 08:41:09,526 - DEBUG - Starting new HTTPS connection (1): v2apigateway.a2g.io:443\n"
     ]
    },
    {
     "name": "stdout",
     "output_type": "stream",
     "text": [
      "sending data...\n"
     ]
    },
    {
     "name": "stderr",
     "output_type": "stream",
     "text": [
      "2024-10-29 08:41:09,942 - DEBUG - https://v2apigateway.a2g.io:443 \"GET /Inputstream/Ikey/1c01a94bea5948faabda HTTP/1.1\" 200 None\n",
      "2024-10-29 08:41:09,952 - INFO - Getting inputstream 1c01a94bea5948faabda from A2G...\n",
      "2024-10-29 08:41:09,955 - WARNING - Inputstream discovered\n",
      "2024-10-29 08:41:09,964 - DEBUG - Starting new HTTPS connection (1): v2streams.a2g.io:443\n",
      "2024-10-29 08:41:10,962 - DEBUG - https://v2streams.a2g.io:443 \"POST /Data/Insert HTTP/1.1\" 200 None\n",
      "2024-10-29 08:41:10,969 - INFO - batch 1, docs: [0 - 31] - 200 - {\"message\":\"Data Received Success, DataToy inputstream\",\"data\":null,\"success\":true,\"errors\":null}\n"
     ]
    }
   ],
   "source": [
    "print(\"sending data...\")\n",
    "USER_PAT = \"8f8ff571c7344ce9b6fae09f1ff9c5b1\"\n",
    "IKEY = \"1c01a94bea5948faabda\"\n",
    "client = A2GClient(token=USER_PAT)\n",
    "client.insert_data(IKEY, df_users.to_dict(\"records\"))\n",
    "\n"
   ]
  }
 ],
 "metadata": {
  "kernelspec": {
   "display_name": "Python 3",
   "language": "python",
   "name": "python3"
  },
  "language_info": {
   "codemirror_mode": {
    "name": "ipython",
    "version": 3
   },
   "file_extension": ".py",
   "mimetype": "text/x-python",
   "name": "python",
   "nbconvert_exporter": "python",
   "pygments_lexer": "ipython3",
   "version": "3.10.7"
  }
 },
 "nbformat": 4,
 "nbformat_minor": 2
}
