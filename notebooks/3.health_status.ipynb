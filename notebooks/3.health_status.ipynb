{
 "cells": [
  {
   "cell_type": "code",
   "execution_count": 1,
   "metadata": {},
   "outputs": [
    {
     "name": "stdout",
     "output_type": "stream",
     "text": [
      "mongo_conn: None, mongo_db: None from cloud_inputstream.py\n",
      "mongo_conn: None, mongo_db: None from init.py\n"
     ]
    }
   ],
   "source": [
    "import json\n",
    "import pandas as pd\n",
    "from a2ginputstream import A2GClient\n",
    "import random\n",
    "import time\n",
    "from datetime import datetime\n",
    "from datetime import timedelta\n",
    "import logging\n",
    "\n",
    "logging.basicConfig(level=logging.DEBUG, format='%(asctime)s - %(levelname)s - %(message)s')"
   ]
  },
  {
   "cell_type": "markdown",
   "metadata": {},
   "source": [
    "## Read data from inputstream"
   ]
  },
  {
   "cell_type": "code",
   "execution_count": null,
   "metadata": {},
   "outputs": [
    {
     "name": "stderr",
     "output_type": "stream",
     "text": [
      "2024-10-29 08:41:43,804 - DEBUG - Starting new HTTPS connection (1): v2apigateway.a2g.io:443\n",
      "2024-10-29 08:41:44,200 - DEBUG - https://v2apigateway.a2g.io:443 \"GET /Inputstream/Ikey/1c01a94bea5948faabda HTTP/11\" 200 None\n",
      "2024-10-29 08:41:44,201 - INFO - Getting inputstream 1c01a94bea5948faabda from A2G...\n",
      "2024-10-29 08:41:44,203 - INFO - Data - Ikey: 1c01a94bea5948faabda, Checking cache expiration...\n",
      "2024-10-29 08:41:44,209 - INFO - Data - Ikey: 1c01a94bea5948faabda, Recovering data from cache...\n",
      "2024-10-29 08:41:44,225 - INFO - Data - Ikey: 1c01a94bea5948faabda, from cache\n"
     ]
    }
   ],
   "source": [
    "USER_PAT, IKEY = \"8f8ff571c7344ce9b6fae09f1ff9c5b1\", \"1c01a94bea5948faabda\"\n",
    "client = A2GClient(token=USER_PAT)\n",
    "time_now = datetime.utcnow().replace(\n",
    "    microsecond=0,\n",
    "    second=0,\n",
    "    minute=0\n",
    ")\n",
    "\n",
    "start_hour = time_now\n",
    "end_hour = time_now + timedelta(hours=1)\n",
    "\n",
    "movements_data:list[dict] = client.find(IKEY, {\"start_on\": {\"$gte\":start_hour}, \"end_on\":{\"$lte\":end_hour}}, delete_id=True)"
   ]
  },
  {
   "cell_type": "markdown",
   "metadata": {},
   "source": [
    "## Analyzes data for alerts"
   ]
  },
  {
   "cell_type": "code",
   "execution_count": 4,
   "metadata": {},
   "outputs": [],
   "source": [
    "def send_alert(user:str, machine:str, time:str):\n",
    "    \"\"\"\n",
    "    Send alert to the user \n",
    "    \"\"\"\n",
    "    print(f\"ALERT [{time_now.isoformat()}]: {user} has been on machine {machine} - Alert Time {time}\")"
   ]
  },
  {
   "cell_type": "code",
   "execution_count": 5,
   "metadata": {},
   "outputs": [
    {
     "name": "stdout",
     "output_type": "stream",
     "text": [
      "ALERT [2024-10-29T11:00:00]: Smith Alfred has been on machine C302 - Alert Time 2024-10-29 11:00:05.531000\n",
      "ALERT [2024-10-29T11:00:00]: Jane Doe has been on machine C301 - Alert Time 2024-10-29 11:00:05.531000\n",
      "ALERT [2024-10-29T11:00:00]: Richard Alfredo has been on machine C302 - Alert Time 2024-10-29 11:00:05.531000\n",
      "ALERT [2024-10-29T11:00:00]: Ahbraham Smith has been on machine C302 - Alert Time 2024-10-29 11:00:05.531000\n",
      "ALERT [2024-10-29T11:00:00]: Richard Alfredo has been on machine C302 - Alert Time 2024-10-29 11:00:05.531000\n",
      "ALERT [2024-10-29T11:00:00]: Smith Alfred has been on machine C302 - Alert Time 2024-10-29 11:00:05.531000\n",
      "ALERT [2024-10-29T11:00:00]: John Smith has been on machine C303 - Alert Time 2024-10-29 11:00:05.531000\n",
      "ALERT [2024-10-29T11:00:00]: Richard Alfredo has been on machine C302 - Alert Time 2024-10-29 11:00:05.531000\n",
      "ALERT [2024-10-29T11:00:00]: Ahbraham Smith has been on machine C301 - Alert Time 2024-10-29 11:00:05.531000\n"
     ]
    }
   ],
   "source": [
    "for row in movements_data:\n",
    "    if row[\"status\"] == \"error\": \n",
    "        send_alert(row[\"name\"], row[\"machines\"], row[\"start_on\"])"
   ]
  },
  {
   "cell_type": "code",
   "execution_count": 6,
   "metadata": {},
   "outputs": [
    {
     "name": "stdout",
     "output_type": "stream",
     "text": [
      "error\n"
     ]
    },
    {
     "ename": "Exception",
     "evalue": "Error",
     "output_type": "error",
     "traceback": [
      "\u001b[1;31m---------------------------------------------------------------------------\u001b[0m",
      "\u001b[1;31mException\u001b[0m                                 Traceback (most recent call last)",
      "Cell \u001b[1;32mIn[6], line 4\u001b[0m\n\u001b[0;32m      2\u001b[0m \u001b[38;5;28;01mif\u001b[39;00m rand_error \u001b[38;5;241m<\u001b[39m \u001b[38;5;241m30\u001b[39m:\n\u001b[0;32m      3\u001b[0m     \u001b[38;5;28mprint\u001b[39m(\u001b[38;5;124m\"\u001b[39m\u001b[38;5;124merror\u001b[39m\u001b[38;5;124m\"\u001b[39m)\n\u001b[1;32m----> 4\u001b[0m     \u001b[38;5;28;01mraise\u001b[39;00m \u001b[38;5;167;01mException\u001b[39;00m(\u001b[38;5;124m\"\u001b[39m\u001b[38;5;124mError\u001b[39m\u001b[38;5;124m\"\u001b[39m)\n",
      "\u001b[1;31mException\u001b[0m: Error"
     ]
    }
   ],
   "source": [
    "rand_error = random.randint(0, 100)\n",
    "if rand_error < 30:\n",
    "    print(\"error\")\n",
    "    raise Exception(\"Error\")"
   ]
  }
 ],
 "metadata": {
  "kernelspec": {
   "display_name": "venv",
   "language": "python",
   "name": "python3"
  },
  "language_info": {
   "codemirror_mode": {
    "name": "ipython",
    "version": 3
   },
   "file_extension": ".py",
   "mimetype": "text/x-python",
   "name": "python",
   "nbconvert_exporter": "python",
   "pygments_lexer": "ipython3",
   "version": "3.10.7"
  }
 },
 "nbformat": 4,
 "nbformat_minor": 2
}
