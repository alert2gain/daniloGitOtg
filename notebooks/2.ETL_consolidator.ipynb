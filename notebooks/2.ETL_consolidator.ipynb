{
 "cells": [
  {
   "cell_type": "code",
   "execution_count": 3,
   "metadata": {},
   "outputs": [],
   "source": [
    "import json\n",
    "import pandas as pd\n",
    "from a2ginputstream import A2GClient\n",
    "import random\n",
    "import time\n",
    "from datetime import datetime\n",
    "from datetime import timedelta\n",
    "import logging\n",
    "\n",
    "logging.basicConfig(level=logging.DEBUG, format='%(asctime)s - %(levelname)s - %(message)s')"
   ]
  },
  {
   "cell_type": "markdown",
   "metadata": {},
   "source": [
    "## Read Data"
   ]
  },
  {
   "cell_type": "code",
   "execution_count": 4,
   "metadata": {},
   "outputs": [
    {
     "name": "stderr",
     "output_type": "stream",
     "text": [
      "2024-10-29 08:40:09,875 - DEBUG - Starting new HTTPS connection (1): v2apigateway.a2g.io:443\n",
      "2024-10-29 08:40:10,286 - DEBUG - https://v2apigateway.a2g.io:443 \"GET /Inputstream/Ikey/1c01a94bea5948faabda HTTP/11\" 200 None\n",
      "2024-10-29 08:40:10,294 - INFO - Getting inputstream 1c01a94bea5948faabda from A2G...\n",
      "2024-10-29 08:40:10,298 - INFO - Downloading data from A2G...\n",
      "2024-10-29 08:40:10,303 - DEBUG - Starting new HTTPS connection (1): v2streams.a2g.io:443\n",
      "2024-10-29 08:40:10,897 - DEBUG - https://v2streams.a2g.io:443 \"POST /QueryData/ExecutionPlanningFind HTTP/11\" 200 119\n",
      "2024-10-29 08:40:10,900 - INFO - The query stages are COLLSCAN\n",
      "2024-10-29 08:40:10,900 - INFO - The index used in query is None\n",
      "2024-10-29 08:40:10,901 - INFO - Total documents to download 31.\n",
      "2024-10-29 08:40:10,902 - INFO - Batch 0/1\n",
      "2024-10-29 08:40:10,904 - DEBUG - Starting new HTTPS connection (1): v2streams.a2g.io:443\n",
      "2024-10-29 08:40:11,325 - DEBUG - https://v2streams.a2g.io:443 \"POST /QueryData/FindAll?page=1&pageSize=176470 HTTP/11\" 200 496\n",
      "2024-10-29 08:40:11,333 - INFO - Batch 1/1\n",
      "2024-10-29 08:40:11,334 - INFO - Data downloaded, total docs: 31\n",
      "2024-10-29 08:40:11,334 - INFO - Caching data ... ikey: 1c01a94bea5948faabda, query: {\"start_on\": {\"$gte\": \"2024-10-29T11:00:00\"}, \"end_on\": {\"$lte\": \"2024-10-29T12:00:00\"}}\n",
      "2024-10-29 08:40:11,347 - INFO - Data - Ikey: 1c01a94bea5948faabda, Data cached\n"
     ]
    }
   ],
   "source": [
    "USER_PAT, IKEY = \"8f8ff571c7344ce9b6fae09f1ff9c5b1\", \"1c01a94bea5948faabda\"\n",
    "client = A2GClient(token=USER_PAT)\n",
    "time_now = datetime.utcnow().replace(\n",
    "    microsecond=0,\n",
    "    second=0,\n",
    "    minute=0\n",
    ")\n",
    "\n",
    "start_hour = time_now\n",
    "end_hour = time_now + timedelta(hours=1)\n",
    "\n",
    "movements_data:list[dict] = client.find(IKEY, {\"start_on\": {\"$gte\":start_hour}, \"end_on\":{\"$lte\":end_hour}}, delete_id=True)"
   ]
  },
  {
   "cell_type": "code",
   "execution_count": 5,
   "metadata": {},
   "outputs": [
    {
     "data": {
      "text/plain": [
       "{'name': 'John Doe',\n",
       " 'role': 'admin',\n",
       " 'machines': 'C303',\n",
       " 'status': 'inactive',\n",
       " 'ton': 86,\n",
       " 'start_on': datetime.datetime(2024, 10, 29, 11, 0, 5, 531000),\n",
       " 'end_on': datetime.datetime(2024, 10, 29, 11, 5, 5, 532000),\n",
       " 'awhen': datetime.datetime(2024, 10, 29, 11, 5, 6, 156000)}"
      ]
     },
     "execution_count": 5,
     "metadata": {},
     "output_type": "execute_result"
    }
   ],
   "source": [
    "movements_data[0]"
   ]
  },
  {
   "cell_type": "markdown",
   "metadata": {},
   "source": [
    "## Consolidate data by user and machine"
   ]
  },
  {
   "cell_type": "code",
   "execution_count": 7,
   "metadata": {},
   "outputs": [],
   "source": [
    "df_movements = pd.DataFrame(movements_data)\n",
    "df_users = df_movements.groupby(by=\"name\")[[\"ton\"]].sum()\n",
    "df_machines = df_movements.groupby(by=\"machines\")[[\"ton\"]].sum()\n",
    "\n",
    "df_machines.reset_index(inplace=True)\n",
    "df_users.reset_index(inplace=True)\n",
    "\n",
    "df_users[\"time\"] = time_now.isoformat()\n",
    "df_machines[\"time\"] = time_now.isoformat()"
   ]
  },
  {
   "cell_type": "code",
   "execution_count": 8,
   "metadata": {},
   "outputs": [
    {
     "data": {
      "text/html": [
       "<div>\n",
       "<style scoped>\n",
       "    .dataframe tbody tr th:only-of-type {\n",
       "        vertical-align: middle;\n",
       "    }\n",
       "\n",
       "    .dataframe tbody tr th {\n",
       "        vertical-align: top;\n",
       "    }\n",
       "\n",
       "    .dataframe thead th {\n",
       "        text-align: right;\n",
       "    }\n",
       "</style>\n",
       "<table border=\"1\" class=\"dataframe\">\n",
       "  <thead>\n",
       "    <tr style=\"text-align: right;\">\n",
       "      <th></th>\n",
       "      <th>machines</th>\n",
       "      <th>ton</th>\n",
       "      <th>time</th>\n",
       "    </tr>\n",
       "  </thead>\n",
       "  <tbody>\n",
       "    <tr>\n",
       "      <th>0</th>\n",
       "      <td>C301</td>\n",
       "      <td>428</td>\n",
       "      <td>2024-10-29T11:00:00</td>\n",
       "    </tr>\n",
       "    <tr>\n",
       "      <th>1</th>\n",
       "      <td>C302</td>\n",
       "      <td>808</td>\n",
       "      <td>2024-10-29T11:00:00</td>\n",
       "    </tr>\n",
       "    <tr>\n",
       "      <th>2</th>\n",
       "      <td>C303</td>\n",
       "      <td>332</td>\n",
       "      <td>2024-10-29T11:00:00</td>\n",
       "    </tr>\n",
       "  </tbody>\n",
       "</table>\n",
       "</div>"
      ],
      "text/plain": [
       "  machines  ton                 time\n",
       "0     C301  428  2024-10-29T11:00:00\n",
       "1     C302  808  2024-10-29T11:00:00\n",
       "2     C303  332  2024-10-29T11:00:00"
      ]
     },
     "execution_count": 8,
     "metadata": {},
     "output_type": "execute_result"
    }
   ],
   "source": [
    "df_machines"
   ]
  },
  {
   "cell_type": "code",
   "execution_count": 9,
   "metadata": {},
   "outputs": [
    {
     "data": {
      "text/html": [
       "<div>\n",
       "<style scoped>\n",
       "    .dataframe tbody tr th:only-of-type {\n",
       "        vertical-align: middle;\n",
       "    }\n",
       "\n",
       "    .dataframe tbody tr th {\n",
       "        vertical-align: top;\n",
       "    }\n",
       "\n",
       "    .dataframe thead th {\n",
       "        text-align: right;\n",
       "    }\n",
       "</style>\n",
       "<table border=\"1\" class=\"dataframe\">\n",
       "  <thead>\n",
       "    <tr style=\"text-align: right;\">\n",
       "      <th></th>\n",
       "      <th>name</th>\n",
       "      <th>ton</th>\n",
       "      <th>time</th>\n",
       "    </tr>\n",
       "  </thead>\n",
       "  <tbody>\n",
       "    <tr>\n",
       "      <th>0</th>\n",
       "      <td>Ahbraham Smith</td>\n",
       "      <td>240</td>\n",
       "      <td>2024-10-29T11:00:00</td>\n",
       "    </tr>\n",
       "    <tr>\n",
       "      <th>1</th>\n",
       "      <td>Jane Doe</td>\n",
       "      <td>282</td>\n",
       "      <td>2024-10-29T11:00:00</td>\n",
       "    </tr>\n",
       "    <tr>\n",
       "      <th>2</th>\n",
       "      <td>John Doe</td>\n",
       "      <td>230</td>\n",
       "      <td>2024-10-29T11:00:00</td>\n",
       "    </tr>\n",
       "    <tr>\n",
       "      <th>3</th>\n",
       "      <td>John Smith</td>\n",
       "      <td>235</td>\n",
       "      <td>2024-10-29T11:00:00</td>\n",
       "    </tr>\n",
       "    <tr>\n",
       "      <th>4</th>\n",
       "      <td>Richard Alfredo</td>\n",
       "      <td>300</td>\n",
       "      <td>2024-10-29T11:00:00</td>\n",
       "    </tr>\n",
       "    <tr>\n",
       "      <th>5</th>\n",
       "      <td>Smith Alfred</td>\n",
       "      <td>281</td>\n",
       "      <td>2024-10-29T11:00:00</td>\n",
       "    </tr>\n",
       "  </tbody>\n",
       "</table>\n",
       "</div>"
      ],
      "text/plain": [
       "              name  ton                 time\n",
       "0   Ahbraham Smith  240  2024-10-29T11:00:00\n",
       "1         Jane Doe  282  2024-10-29T11:00:00\n",
       "2         John Doe  230  2024-10-29T11:00:00\n",
       "3       John Smith  235  2024-10-29T11:00:00\n",
       "4  Richard Alfredo  300  2024-10-29T11:00:00\n",
       "5     Smith Alfred  281  2024-10-29T11:00:00"
      ]
     },
     "execution_count": 9,
     "metadata": {},
     "output_type": "execute_result"
    }
   ],
   "source": [
    "df_users"
   ]
  },
  {
   "cell_type": "markdown",
   "metadata": {},
   "source": [
    "## Save in inputstream"
   ]
  },
  {
   "cell_type": "code",
   "execution_count": 10,
   "metadata": {},
   "outputs": [
    {
     "name": "stderr",
     "output_type": "stream",
     "text": [
      "2024-10-29 08:40:49,363 - DEBUG - Starting new HTTPS connection (1): v2apigateway.a2g.io:443\n"
     ]
    },
    {
     "name": "stderr",
     "output_type": "stream",
     "text": [
      "2024-10-29 08:40:50,754 - DEBUG - https://v2apigateway.a2g.io:443 \"GET /Inputstream/Ikey/574dd3c216924478a03e HTTP/11\" 200 None\n",
      "2024-10-29 08:40:50,766 - INFO - Getting inputstream 574dd3c216924478a03e from A2G...\n",
      "2024-10-29 08:40:50,768 - WARNING - Inputstream discovered\n",
      "2024-10-29 08:40:50,771 - DEBUG - Starting new HTTPS connection (1): v2streams.a2g.io:443\n",
      "2024-10-29 08:40:51,965 - DEBUG - https://v2streams.a2g.io:443 \"POST /Data/Insert HTTP/11\" 200 None\n",
      "2024-10-29 08:40:51,973 - INFO - batch 1, docs: [0 - 3] - 200 - {\"message\":\"Data Received Success, DataToyMachine inputstream\",\"data\":null,\"success\":true,\"errors\":null}\n",
      "2024-10-29 08:40:51,976 - DEBUG - Starting new HTTPS connection (1): v2apigateway.a2g.io:443\n",
      "2024-10-29 08:40:52,407 - DEBUG - https://v2apigateway.a2g.io:443 \"GET /Inputstream/Ikey/0fa6688ad39f4622bdd9 HTTP/11\" 200 None\n",
      "2024-10-29 08:40:52,419 - INFO - Getting inputstream 0fa6688ad39f4622bdd9 from A2G...\n",
      "2024-10-29 08:40:52,421 - WARNING - Inputstream discovered\n",
      "2024-10-29 08:40:52,424 - DEBUG - Starting new HTTPS connection (1): v2streams.a2g.io:443\n",
      "2024-10-29 08:40:52,826 - DEBUG - https://v2streams.a2g.io:443 \"POST /Data/Insert HTTP/11\" 200 None\n",
      "2024-10-29 08:40:52,833 - INFO - batch 1, docs: [0 - 6] - 200 - {\"message\":\"Data Received Success, DataToyUsers inputstream\",\"data\":null,\"success\":true,\"errors\":null}\n"
     ]
    }
   ],
   "source": [
    "IKEY_machine = \"574dd3c216924478a03e\"\n",
    "client.insert_data(IKEY_machine, df_machines.to_dict(orient=\"records\"))\n",
    "\n",
    "IKEY_users = \"0fa6688ad39f4622bdd9\"\n",
    "client.insert_data(IKEY_users, df_users.to_dict(orient=\"records\"))"
   ]
  }
 ],
 "metadata": {
  "kernelspec": {
   "display_name": "venv",
   "language": "python",
   "name": "python3"
  },
  "language_info": {
   "codemirror_mode": {
    "name": "ipython",
    "version": 3
   },
   "file_extension": ".py",
   "mimetype": "text/x-python",
   "name": "python",
   "nbconvert_exporter": "python",
   "pygments_lexer": "ipython3",
   "version": "3.10.7"
  }
 },
 "nbformat": 4,
 "nbformat_minor": 2
}
