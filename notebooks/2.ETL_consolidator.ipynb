{
 "cells": [
  {
   "cell_type": "code",
   "execution_count": 13,
   "metadata": {},
   "outputs": [],
   "source": [
    "import json\n",
    "import pandas as pd\n",
    "from a2ginputstream import A2GClient\n",
    "import random\n",
    "import time\n",
    "from datetime import datetime\n",
    "from datetime import timedelta\n",
    "import logging\n",
    "\n",
    "logging.basicConfig(level=logging.DEBUG, format='%(asctime)s - %(levelname)s - %(message)s')"
   ]
  },
  {
   "cell_type": "markdown",
   "metadata": {},
   "source": [
    "## Read Data"
   ]
  },
  {
   "cell_type": "code",
   "execution_count": 14,
   "metadata": {},
   "outputs": [
    {
     "name": "stderr",
     "output_type": "stream",
     "text": [
      "2024-11-25 13:55:46,083 - DEBUG - Starting new HTTPS connection (1): v2apigateway.a2g.io:443\n",
      "2024-11-25 13:55:47,545 - DEBUG - https://v2apigateway.a2g.io:443 \"GET /Inputstream/Ikey/467c80c4471743808fb1 HTTP/1.1\" 200 None\n",
      "2024-11-25 13:55:47,580 - INFO - Getting inputstream 467c80c4471743808fb1 from A2G...\n",
      "2024-11-25 13:55:47,580 - INFO - Data - Ikey: 467c80c4471743808fb1, Checking cache expiration...\n",
      "2024-11-25 13:55:47,585 - INFO - Data - Ikey: 467c80c4471743808fb1, Recovering data from cache...\n",
      "2024-11-25 13:55:47,595 - INFO - Data - Ikey: 467c80c4471743808fb1, from cache\n"
     ]
    }
   ],
   "source": [
    "USER_PAT, IKEY = \"714091e2f8474eb9b60a7fd6429cfb2a\", \"467c80c4471743808fb1\"\n",
    "client = A2GClient(token=USER_PAT)\n",
    "\n",
    "# {\"start_on\": {\"$gte\":start_hour}, \"end_on\":{\"$lte\":end_hour}}\n",
    "movements_data:list[dict] = client.find(IKEY, {}, delete_id=True)"
   ]
  },
  {
   "cell_type": "code",
   "execution_count": 15,
   "metadata": {},
   "outputs": [],
   "source": [
    "# USER_PAT, IKEY = \"8f8ff571c7344ce9b6fae09f1ff9c5b1\", \"1c01a94bea5948faabda\"\n",
    "# client = A2GClient(token=USER_PAT)\n",
    "time_now = datetime.utcnow().replace(\n",
    "    microsecond=0,\n",
    "    second=0,\n",
    "    minute=0\n",
    ")\n",
    "\n",
    "# start_hour = time_now\n",
    "# end_hour = time_now + timedelta(hours=1)\n",
    "\n",
    "# # {\"start_on\": {\"$gte\":start_hour}, \"end_on\":{\"$lte\":end_hour}}\n",
    "# movements_data:list[dict] = client.find(IKEY, {}, delete_id=True)"
   ]
  },
  {
   "cell_type": "markdown",
   "metadata": {},
   "source": [
    "## Consolidate data by user and machine"
   ]
  },
  {
   "cell_type": "code",
   "execution_count": 16,
   "metadata": {},
   "outputs": [],
   "source": [
    "df_movements = pd.DataFrame(movements_data)\n",
    "df_users = df_movements.groupby(by=\"name\")[[\"ton\"]].sum()\n",
    "df_machines = df_movements.groupby(by=\"machines\")[[\"ton\"]].sum()\n",
    "\n",
    "df_machines.reset_index(inplace=True)\n",
    "df_users.reset_index(inplace=True)\n",
    "\n",
    "df_users[\"time\"] = time_now.isoformat()\n",
    "df_machines[\"time\"] = time_now.isoformat()"
   ]
  },
  {
   "cell_type": "code",
   "execution_count": 17,
   "metadata": {},
   "outputs": [
    {
     "data": {
      "text/html": [
       "<div>\n",
       "<style scoped>\n",
       "    .dataframe tbody tr th:only-of-type {\n",
       "        vertical-align: middle;\n",
       "    }\n",
       "\n",
       "    .dataframe tbody tr th {\n",
       "        vertical-align: top;\n",
       "    }\n",
       "\n",
       "    .dataframe thead th {\n",
       "        text-align: right;\n",
       "    }\n",
       "</style>\n",
       "<table border=\"1\" class=\"dataframe\">\n",
       "  <thead>\n",
       "    <tr style=\"text-align: right;\">\n",
       "      <th></th>\n",
       "      <th>machines</th>\n",
       "      <th>ton</th>\n",
       "      <th>time</th>\n",
       "    </tr>\n",
       "  </thead>\n",
       "  <tbody>\n",
       "    <tr>\n",
       "      <th>0</th>\n",
       "      <td>C301</td>\n",
       "      <td>1464</td>\n",
       "      <td>2024-11-25T16:00:00</td>\n",
       "    </tr>\n",
       "    <tr>\n",
       "      <th>1</th>\n",
       "      <td>C302</td>\n",
       "      <td>908</td>\n",
       "      <td>2024-11-25T16:00:00</td>\n",
       "    </tr>\n",
       "    <tr>\n",
       "      <th>2</th>\n",
       "      <td>C303</td>\n",
       "      <td>618</td>\n",
       "      <td>2024-11-25T16:00:00</td>\n",
       "    </tr>\n",
       "  </tbody>\n",
       "</table>\n",
       "</div>"
      ],
      "text/plain": [
       "  machines   ton                 time\n",
       "0     C301  1464  2024-11-25T16:00:00\n",
       "1     C302   908  2024-11-25T16:00:00\n",
       "2     C303   618  2024-11-25T16:00:00"
      ]
     },
     "execution_count": 17,
     "metadata": {},
     "output_type": "execute_result"
    }
   ],
   "source": [
    "df_machines"
   ]
  },
  {
   "cell_type": "code",
   "execution_count": 18,
   "metadata": {},
   "outputs": [
    {
     "data": {
      "text/html": [
       "<div>\n",
       "<style scoped>\n",
       "    .dataframe tbody tr th:only-of-type {\n",
       "        vertical-align: middle;\n",
       "    }\n",
       "\n",
       "    .dataframe tbody tr th {\n",
       "        vertical-align: top;\n",
       "    }\n",
       "\n",
       "    .dataframe thead th {\n",
       "        text-align: right;\n",
       "    }\n",
       "</style>\n",
       "<table border=\"1\" class=\"dataframe\">\n",
       "  <thead>\n",
       "    <tr style=\"text-align: right;\">\n",
       "      <th></th>\n",
       "      <th>name</th>\n",
       "      <th>ton</th>\n",
       "      <th>time</th>\n",
       "    </tr>\n",
       "  </thead>\n",
       "  <tbody>\n",
       "    <tr>\n",
       "      <th>0</th>\n",
       "      <td>Ahbraham Smith</td>\n",
       "      <td>654</td>\n",
       "      <td>2024-11-25T16:00:00</td>\n",
       "    </tr>\n",
       "    <tr>\n",
       "      <th>1</th>\n",
       "      <td>Jane Doe</td>\n",
       "      <td>560</td>\n",
       "      <td>2024-11-25T16:00:00</td>\n",
       "    </tr>\n",
       "    <tr>\n",
       "      <th>2</th>\n",
       "      <td>John Doe</td>\n",
       "      <td>444</td>\n",
       "      <td>2024-11-25T16:00:00</td>\n",
       "    </tr>\n",
       "    <tr>\n",
       "      <th>3</th>\n",
       "      <td>John Smith</td>\n",
       "      <td>566</td>\n",
       "      <td>2024-11-25T16:00:00</td>\n",
       "    </tr>\n",
       "    <tr>\n",
       "      <th>4</th>\n",
       "      <td>Richard Alfredo</td>\n",
       "      <td>494</td>\n",
       "      <td>2024-11-25T16:00:00</td>\n",
       "    </tr>\n",
       "    <tr>\n",
       "      <th>5</th>\n",
       "      <td>Smith Alfred</td>\n",
       "      <td>272</td>\n",
       "      <td>2024-11-25T16:00:00</td>\n",
       "    </tr>\n",
       "  </tbody>\n",
       "</table>\n",
       "</div>"
      ],
      "text/plain": [
       "              name  ton                 time\n",
       "0   Ahbraham Smith  654  2024-11-25T16:00:00\n",
       "1         Jane Doe  560  2024-11-25T16:00:00\n",
       "2         John Doe  444  2024-11-25T16:00:00\n",
       "3       John Smith  566  2024-11-25T16:00:00\n",
       "4  Richard Alfredo  494  2024-11-25T16:00:00\n",
       "5     Smith Alfred  272  2024-11-25T16:00:00"
      ]
     },
     "execution_count": 18,
     "metadata": {},
     "output_type": "execute_result"
    }
   ],
   "source": [
    "df_users"
   ]
  }
 ],
 "metadata": {
  "kernelspec": {
   "display_name": "Python 3",
   "language": "python",
   "name": "python3"
  },
  "language_info": {
   "codemirror_mode": {
    "name": "ipython",
    "version": 3
   },
   "file_extension": ".py",
   "mimetype": "text/x-python",
   "name": "python",
   "nbconvert_exporter": "python",
   "pygments_lexer": "ipython3",
   "version": "3.10.7"
  }
 },
 "nbformat": 4,
 "nbformat_minor": 2
}
