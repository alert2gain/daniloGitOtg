{
 "cells": [
  {
   "cell_type": "code",
   "execution_count": 29,
   "metadata": {},
   "outputs": [],
   "source": [
    "import json\n",
    "import pandas as pd\n",
    "from a2ginputstream import A2GClient\n",
    "import random\n",
    "import time\n",
    "from datetime import datetime\n",
    "from datetime import timedelta\n",
    "import logging\n",
    "\n",
    "logging.basicConfig(level=logging.DEBUG, format='%(asctime)s - %(levelname)s - %(message)s')"
   ]
  },
  {
   "cell_type": "markdown",
   "metadata": {},
   "source": [
    "## Read Data"
   ]
  },
  {
   "cell_type": "code",
   "execution_count": 30,
   "metadata": {},
   "outputs": [
    {
     "name": "stderr",
     "output_type": "stream",
     "text": [
      "2024-10-28 17:34:24,364 - DEBUG - Starting new HTTPS connection (1): v2apigateway.a2g.io:443\n",
      "2024-10-28 17:34:24,803 - DEBUG - https://v2apigateway.a2g.io:443 \"GET /Inputstream/Ikey/1c01a94bea5948faabda HTTP/1.1\" 200 None\n",
      "2024-10-28 17:34:24,814 - INFO - Getting inputstream 1c01a94bea5948faabda from A2G...\n",
      "2024-10-28 17:34:24,817 - INFO - Downloading data from A2G...\n",
      "2024-10-28 17:34:24,820 - DEBUG - Starting new HTTPS connection (1): v2streams.a2g.io:443\n",
      "2024-10-28 17:34:25,295 - DEBUG - https://v2streams.a2g.io:443 \"POST /QueryData/ExecutionPlanningFind HTTP/1.1\" 200 119\n",
      "2024-10-28 17:34:25,296 - INFO - The query stages are COLLSCAN\n",
      "2024-10-28 17:34:25,297 - INFO - The index used in query is None\n",
      "2024-10-28 17:34:25,297 - INFO - Total documents to download 31.\n",
      "2024-10-28 17:34:25,298 - INFO - Batch 0/1\n",
      "2024-10-28 17:34:25,302 - DEBUG - Starting new HTTPS connection (1): v2streams.a2g.io:443\n",
      "2024-10-28 17:34:25,853 - DEBUG - https://v2streams.a2g.io:443 \"POST /QueryData/FindAll?page=1&pageSize=176470 HTTP/1.1\" 200 508\n",
      "2024-10-28 17:34:25,861 - INFO - Batch 1/1\n",
      "2024-10-28 17:34:25,861 - INFO - Data downloaded, total docs: 31\n",
      "2024-10-28 17:34:25,863 - INFO - Caching data ... ikey: 1c01a94bea5948faabda, query: {\"start_on\": {\"$gte\": \"2024-10-28T20:00:00\"}, \"end_on\": {\"$lte\": \"2024-10-28T21:00:00\"}}\n",
      "2024-10-28 17:34:25,874 - INFO - Data - Ikey: 1c01a94bea5948faabda, Data cached\n"
     ]
    }
   ],
   "source": [
    "USER_PAT, IKEY = \"8f8ff571c7344ce9b6fae09f1ff9c5b1\", \"1c01a94bea5948faabda\"\n",
    "client = A2GClient(token=USER_PAT)\n",
    "time_now = datetime.utcnow().replace(\n",
    "    microsecond=0,\n",
    "    second=0,\n",
    "    minute=0\n",
    ")\n",
    "\n",
    "start_hour = time_now\n",
    "end_hour = time_now + timedelta(hours=1)\n",
    "\n",
    "movements_data:list[dict] = client.find(IKEY, {\"start_on\": {\"$gte\":start_hour}, \"end_on\":{\"$lte\":end_hour}}, delete_id=True)"
   ]
  },
  {
   "cell_type": "markdown",
   "metadata": {},
   "source": [
    "## Consolidate data by user and machine"
   ]
  },
  {
   "cell_type": "code",
   "execution_count": 31,
   "metadata": {},
   "outputs": [
    {
     "name": "stderr",
     "output_type": "stream",
     "text": [
      "C:\\Users\\DaniloAraneda\\AppData\\Local\\Temp\\ipykernel_49452\\3027444034.py:2: FutureWarning: The default value of numeric_only in DataFrameGroupBy.sum is deprecated. In a future version, numeric_only will default to False. Either specify numeric_only or select only columns which should be valid for the function.\n",
      "  df_users = df_movements.groupby(by=\"name\").sum()\n",
      "C:\\Users\\DaniloAraneda\\AppData\\Local\\Temp\\ipykernel_49452\\3027444034.py:3: FutureWarning: The default value of numeric_only in DataFrameGroupBy.sum is deprecated. In a future version, numeric_only will default to False. Either specify numeric_only or select only columns which should be valid for the function.\n",
      "  df_machines = df_movements.groupby(by=\"machines\").sum()\n"
     ]
    }
   ],
   "source": [
    "df_movements = pd.DataFrame(movements_data)\n",
    "df_users = df_movements.groupby(by=\"name\").sum()\n",
    "df_machines = df_movements.groupby(by=\"machines\").sum()\n",
    "\n",
    "df_machines.reset_index(inplace=True)\n",
    "df_users.reset_index(inplace=True)\n",
    "\n",
    "df_users[\"time\"] = time_now.isoformat()\n",
    "df_machines[\"time\"] = time_now.isoformat()"
   ]
  },
  {
   "cell_type": "code",
   "execution_count": 32,
   "metadata": {},
   "outputs": [
    {
     "data": {
      "text/html": [
       "<div>\n",
       "<style scoped>\n",
       "    .dataframe tbody tr th:only-of-type {\n",
       "        vertical-align: middle;\n",
       "    }\n",
       "\n",
       "    .dataframe tbody tr th {\n",
       "        vertical-align: top;\n",
       "    }\n",
       "\n",
       "    .dataframe thead th {\n",
       "        text-align: right;\n",
       "    }\n",
       "</style>\n",
       "<table border=\"1\" class=\"dataframe\">\n",
       "  <thead>\n",
       "    <tr style=\"text-align: right;\">\n",
       "      <th></th>\n",
       "      <th>machines</th>\n",
       "      <th>ton</th>\n",
       "      <th>time</th>\n",
       "    </tr>\n",
       "  </thead>\n",
       "  <tbody>\n",
       "    <tr>\n",
       "      <th>0</th>\n",
       "      <td>C301</td>\n",
       "      <td>628</td>\n",
       "      <td>2024-10-28T20:00:00</td>\n",
       "    </tr>\n",
       "    <tr>\n",
       "      <th>1</th>\n",
       "      <td>C302</td>\n",
       "      <td>657</td>\n",
       "      <td>2024-10-28T20:00:00</td>\n",
       "    </tr>\n",
       "    <tr>\n",
       "      <th>2</th>\n",
       "      <td>C303</td>\n",
       "      <td>629</td>\n",
       "      <td>2024-10-28T20:00:00</td>\n",
       "    </tr>\n",
       "  </tbody>\n",
       "</table>\n",
       "</div>"
      ],
      "text/plain": [
       "  machines  ton                 time\n",
       "0     C301  628  2024-10-28T20:00:00\n",
       "1     C302  657  2024-10-28T20:00:00\n",
       "2     C303  629  2024-10-28T20:00:00"
      ]
     },
     "execution_count": 32,
     "metadata": {},
     "output_type": "execute_result"
    }
   ],
   "source": [
    "df_machines"
   ]
  },
  {
   "cell_type": "code",
   "execution_count": 33,
   "metadata": {},
   "outputs": [
    {
     "data": {
      "text/html": [
       "<div>\n",
       "<style scoped>\n",
       "    .dataframe tbody tr th:only-of-type {\n",
       "        vertical-align: middle;\n",
       "    }\n",
       "\n",
       "    .dataframe tbody tr th {\n",
       "        vertical-align: top;\n",
       "    }\n",
       "\n",
       "    .dataframe thead th {\n",
       "        text-align: right;\n",
       "    }\n",
       "</style>\n",
       "<table border=\"1\" class=\"dataframe\">\n",
       "  <thead>\n",
       "    <tr style=\"text-align: right;\">\n",
       "      <th></th>\n",
       "      <th>name</th>\n",
       "      <th>ton</th>\n",
       "      <th>time</th>\n",
       "    </tr>\n",
       "  </thead>\n",
       "  <tbody>\n",
       "    <tr>\n",
       "      <th>0</th>\n",
       "      <td>Ahbraham Smith</td>\n",
       "      <td>377</td>\n",
       "      <td>2024-10-28T20:00:00</td>\n",
       "    </tr>\n",
       "    <tr>\n",
       "      <th>1</th>\n",
       "      <td>Jane Doe</td>\n",
       "      <td>274</td>\n",
       "      <td>2024-10-28T20:00:00</td>\n",
       "    </tr>\n",
       "    <tr>\n",
       "      <th>2</th>\n",
       "      <td>John Doe</td>\n",
       "      <td>226</td>\n",
       "      <td>2024-10-28T20:00:00</td>\n",
       "    </tr>\n",
       "    <tr>\n",
       "      <th>3</th>\n",
       "      <td>John Smith</td>\n",
       "      <td>311</td>\n",
       "      <td>2024-10-28T20:00:00</td>\n",
       "    </tr>\n",
       "    <tr>\n",
       "      <th>4</th>\n",
       "      <td>Richard Alfredo</td>\n",
       "      <td>347</td>\n",
       "      <td>2024-10-28T20:00:00</td>\n",
       "    </tr>\n",
       "    <tr>\n",
       "      <th>5</th>\n",
       "      <td>Smith Alfred</td>\n",
       "      <td>379</td>\n",
       "      <td>2024-10-28T20:00:00</td>\n",
       "    </tr>\n",
       "  </tbody>\n",
       "</table>\n",
       "</div>"
      ],
      "text/plain": [
       "              name  ton                 time\n",
       "0   Ahbraham Smith  377  2024-10-28T20:00:00\n",
       "1         Jane Doe  274  2024-10-28T20:00:00\n",
       "2         John Doe  226  2024-10-28T20:00:00\n",
       "3       John Smith  311  2024-10-28T20:00:00\n",
       "4  Richard Alfredo  347  2024-10-28T20:00:00\n",
       "5     Smith Alfred  379  2024-10-28T20:00:00"
      ]
     },
     "execution_count": 33,
     "metadata": {},
     "output_type": "execute_result"
    }
   ],
   "source": [
    "df_users"
   ]
  },
  {
   "cell_type": "markdown",
   "metadata": {},
   "source": [
    "## Save in inputstream"
   ]
  },
  {
   "cell_type": "code",
   "execution_count": 34,
   "metadata": {},
   "outputs": [
    {
     "name": "stderr",
     "output_type": "stream",
     "text": [
      "2024-10-28 17:34:36,676 - DEBUG - Starting new HTTPS connection (1): v2apigateway.a2g.io:443\n",
      "2024-10-28 17:34:37,108 - DEBUG - https://v2apigateway.a2g.io:443 \"GET /Inputstream/Ikey/574dd3c216924478a03e HTTP/1.1\" 200 None\n",
      "2024-10-28 17:34:37,119 - INFO - Getting inputstream 574dd3c216924478a03e from A2G...\n",
      "2024-10-28 17:34:37,121 - WARNING - Inputstream discovered\n",
      "2024-10-28 17:34:37,124 - DEBUG - Starting new HTTPS connection (1): v2streams.a2g.io:443\n",
      "2024-10-28 17:34:37,580 - DEBUG - https://v2streams.a2g.io:443 \"POST /Data/Insert HTTP/1.1\" 200 None\n",
      "2024-10-28 17:34:37,588 - INFO - batch 1, docs: [0 - 3] - 200 - {\"message\":\"Data Received Success, DataToyMachine inputstream\",\"data\":null,\"success\":true,\"errors\":null}\n",
      "2024-10-28 17:34:37,591 - DEBUG - Starting new HTTPS connection (1): v2apigateway.a2g.io:443\n",
      "2024-10-28 17:34:38,033 - DEBUG - https://v2apigateway.a2g.io:443 \"GET /Inputstream/Ikey/0fa6688ad39f4622bdd9 HTTP/1.1\" 200 None\n",
      "2024-10-28 17:34:38,048 - INFO - Getting inputstream 0fa6688ad39f4622bdd9 from A2G...\n",
      "2024-10-28 17:34:38,051 - WARNING - Inputstream discovered\n",
      "2024-10-28 17:34:38,054 - DEBUG - Starting new HTTPS connection (1): v2streams.a2g.io:443\n",
      "2024-10-28 17:34:39,470 - DEBUG - https://v2streams.a2g.io:443 \"POST /Data/Insert HTTP/1.1\" 200 None\n",
      "2024-10-28 17:34:40,460 - INFO - batch 1, docs: [0 - 6] - 200 - {\"message\":\"Data Received Success, DataToyUsers inputstream\",\"data\":null,\"success\":true,\"errors\":null}\n"
     ]
    }
   ],
   "source": [
    "IKEY_machine = \"574dd3c216924478a03e\"\n",
    "client.insert_data(IKEY_machine, df_machines.to_dict(orient=\"records\"))\n",
    "\n",
    "IKEY_users = \"0fa6688ad39f4622bdd9\"\n",
    "client.insert_data(IKEY_users, df_users.to_dict(orient=\"records\"))"
   ]
  }
 ],
 "metadata": {
  "kernelspec": {
   "display_name": "Python 3",
   "language": "python",
   "name": "python3"
  },
  "language_info": {
   "codemirror_mode": {
    "name": "ipython",
    "version": 3
   },
   "file_extension": ".py",
   "mimetype": "text/x-python",
   "name": "python",
   "nbconvert_exporter": "python",
   "pygments_lexer": "ipython3",
   "version": "3.10.7"
  }
 },
 "nbformat": 4,
 "nbformat_minor": 2
}
